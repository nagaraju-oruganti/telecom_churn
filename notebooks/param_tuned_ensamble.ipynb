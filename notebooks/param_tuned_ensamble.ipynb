{
 "cells": [
  {
   "cell_type": "code",
   "execution_count": 1,
   "metadata": {},
   "outputs": [],
   "source": [
    "%%capture\n",
    "%cd ../src"
   ]
  },
  {
   "cell_type": "code",
   "execution_count": 2,
   "metadata": {},
   "outputs": [],
   "source": [
    "from config import Config\n",
    "config = Config()\n",
    "config.model_dir = '../models'"
   ]
  },
  {
   "cell_type": "code",
   "execution_count": 3,
   "metadata": {},
   "outputs": [
    {
     "name": "stdout",
     "output_type": "stream",
     "text": [
      "scaled     all_folds_decision_tree.csv              with acc: 0.9411 and optim_threshold 0.515\n",
      "scaled     all_folds_logistic_regression.csv        with acc: 0.9284 and optim_threshold 0.381\n",
      "scaled     all_folds_gradient_boosting.csv          with acc: 0.9432 and optim_threshold 0.482\n",
      "scaled     all_folds_random_forest.csv              with acc: 0.9432 and optim_threshold 0.457\n",
      "scaled     all_folds_xgboost.csv                    with acc: 0.9426 and optim_threshold 0.598\n",
      "\n"
     ]
    }
   ],
   "source": [
    "from ensamble import OptimizeThresh\n",
    "opt = OptimizeThresh(cfg = config, \n",
    "                     source_dir = 'tuned',\n",
    "                     kinds = ['scaled'])\n",
    "dict_model_threshold = opt.run()"
   ]
  },
  {
   "cell_type": "code",
   "execution_count": 4,
   "metadata": {},
   "outputs": [
    {
     "data": {
      "text/plain": [
       "{'scaled': {'decision_tree': 0.515,\n",
       "  'logistic_regression': 0.381,\n",
       "  'gradient_boosting': 0.482,\n",
       "  'random_forest': 0.457,\n",
       "  'xgboost': 0.598}}"
      ]
     },
     "execution_count": 4,
     "metadata": {},
     "output_type": "execute_result"
    }
   ],
   "source": [
    "dict_model_threshold"
   ]
  },
  {
   "cell_type": "code",
   "execution_count": 5,
   "metadata": {},
   "outputs": [
    {
     "name": "stdout",
     "output_type": "stream",
     "text": [
      "order of models:\n",
      "['scaled_decision_tree_optim_pred', 'scaled_logistic_regression_optim_pred', 'scaled_gradient_boosting_optim_pred', 'scaled_random_forest_optim_pred', 'scaled_xgboost_optim_pred']\n",
      "Optimization terminated successfully.\n",
      "         Current function value: -0.943445\n",
      "         Iterations: 10\n",
      "         Function evaluations: 64\n",
      "optim_th: 0.53\n",
      "Accuracy score for fold 0: 0.944 with AUC: 0.8219458259783844\n",
      "coefs:        [0.13508471 0.10830701 0.28437283 0.14665575 0.32557969]\n",
      "threshold:    0.53\n",
      "Optimization terminated successfully.\n",
      "         Current function value: -0.936981\n",
      "         Iterations: 10\n",
      "         Function evaluations: 69\n",
      "optim_th: 0.23\n",
      "Accuracy score for fold 1: 0.9369285714285714 with AUC: 0.821207618780113\n",
      "coefs:        [0.18491963 0.57151507 0.06118526 0.15885052 0.02352951]\n",
      "threshold:    0.23\n",
      "Optimization terminated successfully.\n",
      "         Current function value: -0.943642\n",
      "         Iterations: 11\n",
      "         Function evaluations: 65\n",
      "optim_th: 0.49\n",
      "Accuracy score for fold 2: 0.9425714285714286 with AUC: 0.8125634790050503\n",
      "coefs:        [0.13576515 0.33516005 0.15691892 0.02133939 0.35081649]\n",
      "threshold:    0.49\n",
      "Optimization terminated successfully.\n",
      "         Current function value: -0.943767\n",
      "         Iterations: 9\n",
      "         Function evaluations: 62\n",
      "optim_th: 0.36\n",
      "Accuracy score for fold 3: 0.9434285714285714 with AUC: 0.8172910421028787\n",
      "coefs:        [0.34594115 0.00875152 0.16806434 0.1469196  0.33032339]\n",
      "threshold:    0.36\n",
      "Optimization terminated successfully.\n",
      "         Current function value: -0.942857\n",
      "         Iterations: 21\n",
      "         Function evaluations: 79\n",
      "optim_th: 0.26\n",
      "Accuracy score for fold 4: 0.9439245660404315 with AUC: 0.8171078340263022\n",
      "coefs:        [0.64995992 0.09784503 0.00271475 0.25269557 0.00881786]\n",
      "threshold:    0.26\n",
      "coefs:        [0.29033411 0.22431574 0.13465122 0.14529217 0.20781339]\n",
      "accuracy:     0.9421706274938006\n",
      "threshold:    0.374\n",
      "Final accuracy: 0.943170616723096\n"
     ]
    }
   ],
   "source": [
    "from ensamble import Ensambler\n",
    "e = Ensambler(cfg = config, source_dir = 'tuned')\n",
    "e.load_predictions()\n",
    "dict_coefs, mean_thresh = e.run_optimizer()"
   ]
  },
  {
   "cell_type": "code",
   "execution_count": 6,
   "metadata": {},
   "outputs": [
    {
     "data": {
      "text/plain": [
       "{'scaled_decision_tree_optim_pred': 0.2903341107549342,\n",
       " 'scaled_logistic_regression_optim_pred': 0.22431573605866673,\n",
       " 'scaled_gradient_boosting_optim_pred': 0.1346512206041277,\n",
       " 'scaled_random_forest_optim_pred': 0.1452921689053081,\n",
       " 'scaled_xgboost_optim_pred': 0.20781338815307832}"
      ]
     },
     "execution_count": 6,
     "metadata": {},
     "output_type": "execute_result"
    }
   ],
   "source": [
    "dict_coefs"
   ]
  },
  {
   "cell_type": "code",
   "execution_count": 7,
   "metadata": {},
   "outputs": [
    {
     "data": {
      "text/plain": [
       "0.374"
      ]
     },
     "execution_count": 7,
     "metadata": {},
     "output_type": "execute_result"
    }
   ],
   "source": [
    "mean_thresh"
   ]
  },
  {
   "cell_type": "markdown",
   "metadata": {},
   "source": [
    "Combine for submission"
   ]
  },
  {
   "cell_type": "code",
   "execution_count": 8,
   "metadata": {},
   "outputs": [],
   "source": [
    "import os\n",
    "import numpy as np\n",
    "import pandas as pd\n",
    "import warnings\n",
    "warnings.filterwarnings('ignore')"
   ]
  },
  {
   "cell_type": "code",
   "execution_count": 9,
   "metadata": {},
   "outputs": [],
   "source": [
    "source_dir = '../models/predictions/tuned/scaled_final'\n",
    "files = os.listdir(source_dir)\n",
    "for ignore in ['svm']:\n",
    "    files = [f for f in files if ignore not in f]\n",
    "    \n",
    "req_cols = ['id', 'kfold', 'churn_probability', 'prob']\n",
    "df = pd.DataFrame()\n",
    "for f in files:\n",
    "    alg = f.replace('final_', '').replace('.csv', '')\n",
    "    d = pd.read_csv(f'{source_dir}/{f}')[req_cols]\n",
    "    d[f'scaled_{alg}_optim_pred'] = np.where(d['prob'] > dict_model_threshold['scaled'][alg], 1, 0)\n",
    "    d.drop(columns = 'prob', inplace = True)\n",
    "    df = d if df.empty else df.merge(d, on = ['id', 'kfold', 'churn_probability'])\n",
    "    \n",
    "df['final_pred'] = np.sum(df[dict_coefs.keys()].values * [dict_coefs[k] for k in dict_coefs.keys()], axis = 1)\n",
    "df['final_pred'] = np.where(df['final_pred'] > mean_thresh, 1, 0)"
   ]
  },
  {
   "cell_type": "code",
   "execution_count": 10,
   "metadata": {},
   "outputs": [
    {
     "data": {
      "text/plain": [
       "0.9664995214217346"
      ]
     },
     "execution_count": 10,
     "metadata": {},
     "output_type": "execute_result"
    }
   ],
   "source": [
    "from sklearn.metrics import accuracy_score\n",
    "train = df[df['kfold'] == 'train']\n",
    "test = df[df['kfold'] == 'test']\n",
    "accuracy_score(y_true = train['churn_probability'], y_pred = train['final_pred'])"
   ]
  },
  {
   "cell_type": "code",
   "execution_count": 11,
   "metadata": {},
   "outputs": [
    {
     "data": {
      "text/html": [
       "<div>\n",
       "<style scoped>\n",
       "    .dataframe tbody tr th:only-of-type {\n",
       "        vertical-align: middle;\n",
       "    }\n",
       "\n",
       "    .dataframe tbody tr th {\n",
       "        vertical-align: top;\n",
       "    }\n",
       "\n",
       "    .dataframe thead th {\n",
       "        text-align: right;\n",
       "    }\n",
       "</style>\n",
       "<table border=\"1\" class=\"dataframe\">\n",
       "  <thead>\n",
       "    <tr style=\"text-align: right;\">\n",
       "      <th></th>\n",
       "      <th>id</th>\n",
       "      <th>churn_probability</th>\n",
       "    </tr>\n",
       "  </thead>\n",
       "  <tbody>\n",
       "    <tr>\n",
       "      <th>69999</th>\n",
       "      <td>69999</td>\n",
       "      <td>0</td>\n",
       "    </tr>\n",
       "    <tr>\n",
       "      <th>70000</th>\n",
       "      <td>70000</td>\n",
       "      <td>0</td>\n",
       "    </tr>\n",
       "    <tr>\n",
       "      <th>70001</th>\n",
       "      <td>70001</td>\n",
       "      <td>1</td>\n",
       "    </tr>\n",
       "    <tr>\n",
       "      <th>70002</th>\n",
       "      <td>70002</td>\n",
       "      <td>0</td>\n",
       "    </tr>\n",
       "    <tr>\n",
       "      <th>70003</th>\n",
       "      <td>70003</td>\n",
       "      <td>0</td>\n",
       "    </tr>\n",
       "  </tbody>\n",
       "</table>\n",
       "</div>"
      ],
      "text/plain": [
       "          id  churn_probability\n",
       "69999  69999                  0\n",
       "70000  70000                  0\n",
       "70001  70001                  1\n",
       "70002  70002                  0\n",
       "70003  70003                  0"
      ]
     },
     "execution_count": 11,
     "metadata": {},
     "output_type": "execute_result"
    }
   ],
   "source": [
    "test = test[['id', 'final_pred']]\n",
    "test.rename(columns = {'final_pred' : 'churn_probability'}, inplace = True)\n",
    "test.head()"
   ]
  },
  {
   "cell_type": "code",
   "execution_count": 12,
   "metadata": {},
   "outputs": [],
   "source": [
    "### Sample submission file\n",
    "sample = pd.read_csv('../data/raw/sample.csv')\n",
    "sub = test.merge(sample.drop(columns = ['churn_probability']), on = 'id')\n",
    "sub.to_csv('../submissions/tuned.csv', index = False)"
   ]
  },
  {
   "cell_type": "code",
   "execution_count": 13,
   "metadata": {},
   "outputs": [
    {
     "data": {
      "text/html": [
       "<div>\n",
       "<style scoped>\n",
       "    .dataframe tbody tr th:only-of-type {\n",
       "        vertical-align: middle;\n",
       "    }\n",
       "\n",
       "    .dataframe tbody tr th {\n",
       "        vertical-align: top;\n",
       "    }\n",
       "\n",
       "    .dataframe thead th {\n",
       "        text-align: right;\n",
       "    }\n",
       "</style>\n",
       "<table border=\"1\" class=\"dataframe\">\n",
       "  <thead>\n",
       "    <tr style=\"text-align: right;\">\n",
       "      <th></th>\n",
       "      <th>id</th>\n",
       "      <th>churn_probability</th>\n",
       "    </tr>\n",
       "  </thead>\n",
       "  <tbody>\n",
       "    <tr>\n",
       "      <th>0</th>\n",
       "      <td>69999</td>\n",
       "      <td>0</td>\n",
       "    </tr>\n",
       "    <tr>\n",
       "      <th>1</th>\n",
       "      <td>70000</td>\n",
       "      <td>0</td>\n",
       "    </tr>\n",
       "    <tr>\n",
       "      <th>2</th>\n",
       "      <td>70001</td>\n",
       "      <td>1</td>\n",
       "    </tr>\n",
       "    <tr>\n",
       "      <th>3</th>\n",
       "      <td>70002</td>\n",
       "      <td>0</td>\n",
       "    </tr>\n",
       "    <tr>\n",
       "      <th>4</th>\n",
       "      <td>70003</td>\n",
       "      <td>0</td>\n",
       "    </tr>\n",
       "    <tr>\n",
       "      <th>...</th>\n",
       "      <td>...</td>\n",
       "      <td>...</td>\n",
       "    </tr>\n",
       "    <tr>\n",
       "      <th>29995</th>\n",
       "      <td>99994</td>\n",
       "      <td>0</td>\n",
       "    </tr>\n",
       "    <tr>\n",
       "      <th>29996</th>\n",
       "      <td>99995</td>\n",
       "      <td>0</td>\n",
       "    </tr>\n",
       "    <tr>\n",
       "      <th>29997</th>\n",
       "      <td>99996</td>\n",
       "      <td>0</td>\n",
       "    </tr>\n",
       "    <tr>\n",
       "      <th>29998</th>\n",
       "      <td>99997</td>\n",
       "      <td>0</td>\n",
       "    </tr>\n",
       "    <tr>\n",
       "      <th>29999</th>\n",
       "      <td>99998</td>\n",
       "      <td>0</td>\n",
       "    </tr>\n",
       "  </tbody>\n",
       "</table>\n",
       "<p>30000 rows × 2 columns</p>\n",
       "</div>"
      ],
      "text/plain": [
       "          id  churn_probability\n",
       "0      69999                  0\n",
       "1      70000                  0\n",
       "2      70001                  1\n",
       "3      70002                  0\n",
       "4      70003                  0\n",
       "...      ...                ...\n",
       "29995  99994                  0\n",
       "29996  99995                  0\n",
       "29997  99996                  0\n",
       "29998  99997                  0\n",
       "29999  99998                  0\n",
       "\n",
       "[30000 rows x 2 columns]"
      ]
     },
     "execution_count": 13,
     "metadata": {},
     "output_type": "execute_result"
    }
   ],
   "source": [
    "pd.read_csv('../submissions/tuned.csv')"
   ]
  },
  {
   "cell_type": "code",
   "execution_count": null,
   "metadata": {},
   "outputs": [],
   "source": []
  }
 ],
 "metadata": {
  "kernelspec": {
   "display_name": "base",
   "language": "python",
   "name": "python3"
  },
  "language_info": {
   "codemirror_mode": {
    "name": "ipython",
    "version": 3
   },
   "file_extension": ".py",
   "mimetype": "text/x-python",
   "name": "python",
   "nbconvert_exporter": "python",
   "pygments_lexer": "ipython3",
   "version": "3.11.5"
  }
 },
 "nbformat": 4,
 "nbformat_minor": 2
}
