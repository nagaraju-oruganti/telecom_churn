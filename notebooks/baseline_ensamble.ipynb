{
 "cells": [
  {
   "cell_type": "code",
   "execution_count": 1,
   "metadata": {},
   "outputs": [],
   "source": [
    "%%capture\n",
    "%cd ../src"
   ]
  },
  {
   "cell_type": "code",
   "execution_count": 2,
   "metadata": {},
   "outputs": [],
   "source": [
    "from config import Config\n",
    "config = Config()\n",
    "config.model_dir = '../models'"
   ]
  },
  {
   "cell_type": "code",
   "execution_count": 3,
   "metadata": {},
   "outputs": [
    {
     "name": "stdout",
     "output_type": "stream",
     "text": [
      "pca        all_folds_decision_tree.csv              with acc: 0.9076 and optim_threshold 0.585\n",
      "pca        all_folds_logistic_regression.csv        with acc: 0.9142 and optim_threshold 0.118\n",
      "pca        all_folds_svm.csv                        with acc: 0.8988 and optim_threshold 0.804\n",
      "pca        all_folds_gradient_boosting.csv          with acc: 0.9213 and optim_threshold 0.418\n",
      "pca        all_folds_random_forest.csv              with acc: 0.9085 and optim_threshold 0.292\n",
      "pca        all_folds_xgboost.csv                    with acc: 0.926 and optim_threshold 0.59\n",
      "\n",
      "scaled     all_folds_decision_tree.csv              with acc: 0.9366 and optim_threshold 0.565\n",
      "scaled     all_folds_logistic_regression.csv        with acc: 0.9284 and optim_threshold 0.381\n",
      "scaled     all_folds_svm.csv                        with acc: 0.8986 and optim_threshold 0.217\n",
      "scaled     all_folds_gradient_boosting.csv          with acc: 0.9432 and optim_threshold 0.485\n",
      "scaled     all_folds_random_forest.csv              with acc: 0.9407 and optim_threshold 0.659\n",
      "scaled     all_folds_xgboost.csv                    with acc: 0.9424 and optim_threshold 0.523\n",
      "\n"
     ]
    }
   ],
   "source": [
    "from ensamble import OptimizeThresh\n",
    "opt = OptimizeThresh(cfg = config, \n",
    "                     source_dir = 'baseline',\n",
    "                     kinds = ['pca', 'scaled'])\n",
    "dict_model_threshold = opt.run()"
   ]
  },
  {
   "cell_type": "code",
   "execution_count": 4,
   "metadata": {},
   "outputs": [
    {
     "data": {
      "text/plain": [
       "{'pca': {'decision_tree': 0.585,\n",
       "  'logistic_regression': 0.11800000000000001,\n",
       "  'svm': 0.804,\n",
       "  'gradient_boosting': 0.418,\n",
       "  'random_forest': 0.292,\n",
       "  'xgboost': 0.59},\n",
       " 'scaled': {'decision_tree': 0.5650000000000001,\n",
       "  'logistic_regression': 0.381,\n",
       "  'svm': 0.217,\n",
       "  'gradient_boosting': 0.485,\n",
       "  'random_forest': 0.659,\n",
       "  'xgboost': 0.523}}"
      ]
     },
     "execution_count": 4,
     "metadata": {},
     "output_type": "execute_result"
    }
   ],
   "source": [
    "dict_model_threshold"
   ]
  },
  {
   "cell_type": "code",
   "execution_count": 5,
   "metadata": {},
   "outputs": [
    {
     "name": "stdout",
     "output_type": "stream",
     "text": [
      "order of models:\n",
      "['scaled_decision_tree_optim_pred', 'scaled_logistic_regression_optim_pred', 'scaled_gradient_boosting_optim_pred', 'scaled_random_forest_optim_pred', 'scaled_xgboost_optim_pred']\n",
      "Optimization terminated successfully.\n",
      "         Current function value: -0.943338\n",
      "         Iterations: 10\n",
      "         Function evaluations: 64\n",
      "optim_th: 0.4\n",
      "Accuracy score for fold 0: 0.9435 with AUC: 0.8222912933282255\n",
      "coefs:        [0.25322986 0.02927221 0.26777721 0.32007415 0.14239786]\n",
      "threshold:    0.4\n",
      "Optimization terminated successfully.\n",
      "         Current function value: -0.943410\n",
      "         Iterations: 14\n",
      "         Function evaluations: 64\n",
      "optim_th: 0.38\n",
      "Accuracy score for fold 1: 0.9420714285714286 with AUC: 0.8064231493865949\n",
      "coefs:        [0.22738802 0.13890979 0.14438766 0.25816767 0.23802247]\n",
      "threshold:    0.38\n",
      "Optimization terminated successfully.\n",
      "         Current function value: -0.943535\n",
      "         Iterations: 9\n",
      "         Function evaluations: 62\n",
      "optim_th: 0.37\n",
      "Accuracy score for fold 2: 0.9415714285714286 with AUC: 0.8156921399005024\n",
      "coefs:        [0.06113116 0.15627682 0.15431201 0.36153288 0.26674713]\n",
      "threshold:    0.37\n",
      "Optimization terminated successfully.\n",
      "         Current function value: -0.941606\n",
      "         Iterations: 18\n",
      "         Function evaluations: 75\n",
      "optim_th: 0.5700000000000001\n",
      "Accuracy score for fold 3: 0.9421428571428572 with AUC: 0.7940310074345583\n",
      "coefs:        [0.24135221 0.18928816 0.06948008 0.50022344 0.00296468]\n",
      "threshold:    0.5700000000000001\n",
      "Optimization terminated successfully.\n",
      "         Current function value: -0.941571\n",
      "         Iterations: 9\n",
      "         Function evaluations: 62\n",
      "optim_th: 0.33\n",
      "Accuracy score for fold 4: 0.9436388313450961 with AUC: 0.816012487426803\n",
      "coefs:        [0.32395862 0.3205315  0.13200017 0.14359051 0.0799192 ]\n",
      "threshold:    0.33\n",
      "coefs:        [0.22141197 0.1668557  0.15359143 0.31671773 0.14601027]\n",
      "accuracy:     0.9425849091261622\n",
      "threshold:    0.41\n",
      "Final accuracy: 0.9423134616208803\n"
     ]
    }
   ],
   "source": [
    "from ensamble import Ensambler\n",
    "e = Ensambler(cfg = config, source_dir = 'baseline')\n",
    "e.load_predictions()\n",
    "dict_coefs, mean_thresh = e.run_optimizer()"
   ]
  },
  {
   "cell_type": "code",
   "execution_count": 6,
   "metadata": {},
   "outputs": [
    {
     "data": {
      "text/plain": [
       "{'scaled_decision_tree_optim_pred': 0.22141197433984344,\n",
       " 'scaled_logistic_regression_optim_pred': 0.16685569629122515,\n",
       " 'scaled_gradient_boosting_optim_pred': 0.15359142599980663,\n",
       " 'scaled_random_forest_optim_pred': 0.31671772772544904,\n",
       " 'scaled_xgboost_optim_pred': 0.14601027039949538}"
      ]
     },
     "execution_count": 6,
     "metadata": {},
     "output_type": "execute_result"
    }
   ],
   "source": [
    "dict_coefs"
   ]
  },
  {
   "cell_type": "code",
   "execution_count": 7,
   "metadata": {},
   "outputs": [
    {
     "data": {
      "text/plain": [
       "0.41"
      ]
     },
     "execution_count": 7,
     "metadata": {},
     "output_type": "execute_result"
    }
   ],
   "source": [
    "mean_thresh"
   ]
  },
  {
   "cell_type": "markdown",
   "metadata": {},
   "source": [
    "Combine for submission"
   ]
  },
  {
   "cell_type": "code",
   "execution_count": 20,
   "metadata": {},
   "outputs": [],
   "source": [
    "import os\n",
    "import numpy as np\n",
    "import pandas as pd\n",
    "import warnings\n",
    "warnings.filterwarnings('ignore')"
   ]
  },
  {
   "cell_type": "code",
   "execution_count": 32,
   "metadata": {},
   "outputs": [],
   "source": [
    "source_dir = '../models/predictions/baseline/scaled_final'\n",
    "files = os.listdir(source_dir)\n",
    "for ignore in ['svm']:\n",
    "    files = [f for f in files if ignore not in f]\n",
    "    \n",
    "req_cols = ['id', 'kfold', 'churn_probability', 'prob']\n",
    "df = pd.DataFrame()\n",
    "for f in files:\n",
    "    alg = f.replace('final_', '').replace('.csv', '')\n",
    "    d = pd.read_csv(f'{source_dir}/{f}')[req_cols]\n",
    "    d[f'scaled_{alg}_optim_pred'] = np.where(d['prob'] > dict_model_threshold['scaled'][alg], 1, 0)\n",
    "    d.drop(columns = 'prob', inplace = True)\n",
    "    df = d if df.empty else df.merge(d, on = ['id', 'kfold', 'churn_probability'])\n",
    "    \n",
    "df['final_pred'] = np.sum(df[dict_coefs.keys()].values * [dict_coefs[k] for k in dict_coefs.keys()], axis = 1)\n",
    "df['final_pred'] = np.where(df['final_pred'] > mean_thresh, 1, 0)"
   ]
  },
  {
   "cell_type": "code",
   "execution_count": 38,
   "metadata": {},
   "outputs": [
    {
     "data": {
      "text/plain": [
       "0.9463849483564051"
      ]
     },
     "execution_count": 38,
     "metadata": {},
     "output_type": "execute_result"
    }
   ],
   "source": [
    "from sklearn.metrics import accuracy_score\n",
    "train = df[df['kfold'] == 'train']\n",
    "test = df[df['kfold'] == 'test']\n",
    "accuracy_score(y_true = train['churn_probability'], y_pred = train['final_pred'])"
   ]
  },
  {
   "cell_type": "code",
   "execution_count": 39,
   "metadata": {},
   "outputs": [
    {
     "data": {
      "text/html": [
       "<div>\n",
       "<style scoped>\n",
       "    .dataframe tbody tr th:only-of-type {\n",
       "        vertical-align: middle;\n",
       "    }\n",
       "\n",
       "    .dataframe tbody tr th {\n",
       "        vertical-align: top;\n",
       "    }\n",
       "\n",
       "    .dataframe thead th {\n",
       "        text-align: right;\n",
       "    }\n",
       "</style>\n",
       "<table border=\"1\" class=\"dataframe\">\n",
       "  <thead>\n",
       "    <tr style=\"text-align: right;\">\n",
       "      <th></th>\n",
       "      <th>id</th>\n",
       "      <th>churn_probability</th>\n",
       "    </tr>\n",
       "  </thead>\n",
       "  <tbody>\n",
       "    <tr>\n",
       "      <th>69999</th>\n",
       "      <td>69999</td>\n",
       "      <td>0</td>\n",
       "    </tr>\n",
       "    <tr>\n",
       "      <th>70000</th>\n",
       "      <td>70000</td>\n",
       "      <td>0</td>\n",
       "    </tr>\n",
       "    <tr>\n",
       "      <th>70001</th>\n",
       "      <td>70001</td>\n",
       "      <td>1</td>\n",
       "    </tr>\n",
       "    <tr>\n",
       "      <th>70002</th>\n",
       "      <td>70002</td>\n",
       "      <td>0</td>\n",
       "    </tr>\n",
       "    <tr>\n",
       "      <th>70003</th>\n",
       "      <td>70003</td>\n",
       "      <td>0</td>\n",
       "    </tr>\n",
       "  </tbody>\n",
       "</table>\n",
       "</div>"
      ],
      "text/plain": [
       "          id  churn_probability\n",
       "69999  69999                  0\n",
       "70000  70000                  0\n",
       "70001  70001                  1\n",
       "70002  70002                  0\n",
       "70003  70003                  0"
      ]
     },
     "execution_count": 39,
     "metadata": {},
     "output_type": "execute_result"
    }
   ],
   "source": [
    "test = test[['id', 'final_pred']]\n",
    "test.rename(columns = {'final_pred' : 'churn_probability'}, inplace = True)\n",
    "test.head()"
   ]
  },
  {
   "cell_type": "code",
   "execution_count": 43,
   "metadata": {},
   "outputs": [],
   "source": [
    "### Sample submission file\n",
    "sample = pd.read_csv('../data/raw/sample.csv')\n",
    "sub = test.merge(sample.drop(columns = ['churn_probability']), on = 'id')\n",
    "sub.to_csv('../submissions/baseline.csv', index = False)"
   ]
  },
  {
   "cell_type": "code",
   "execution_count": 44,
   "metadata": {},
   "outputs": [
    {
     "data": {
      "text/html": [
       "<div>\n",
       "<style scoped>\n",
       "    .dataframe tbody tr th:only-of-type {\n",
       "        vertical-align: middle;\n",
       "    }\n",
       "\n",
       "    .dataframe tbody tr th {\n",
       "        vertical-align: top;\n",
       "    }\n",
       "\n",
       "    .dataframe thead th {\n",
       "        text-align: right;\n",
       "    }\n",
       "</style>\n",
       "<table border=\"1\" class=\"dataframe\">\n",
       "  <thead>\n",
       "    <tr style=\"text-align: right;\">\n",
       "      <th></th>\n",
       "      <th>id</th>\n",
       "      <th>churn_probability</th>\n",
       "    </tr>\n",
       "  </thead>\n",
       "  <tbody>\n",
       "    <tr>\n",
       "      <th>0</th>\n",
       "      <td>69999</td>\n",
       "      <td>0</td>\n",
       "    </tr>\n",
       "    <tr>\n",
       "      <th>1</th>\n",
       "      <td>70000</td>\n",
       "      <td>0</td>\n",
       "    </tr>\n",
       "    <tr>\n",
       "      <th>2</th>\n",
       "      <td>70001</td>\n",
       "      <td>1</td>\n",
       "    </tr>\n",
       "    <tr>\n",
       "      <th>3</th>\n",
       "      <td>70002</td>\n",
       "      <td>0</td>\n",
       "    </tr>\n",
       "    <tr>\n",
       "      <th>4</th>\n",
       "      <td>70003</td>\n",
       "      <td>0</td>\n",
       "    </tr>\n",
       "    <tr>\n",
       "      <th>...</th>\n",
       "      <td>...</td>\n",
       "      <td>...</td>\n",
       "    </tr>\n",
       "    <tr>\n",
       "      <th>29995</th>\n",
       "      <td>99994</td>\n",
       "      <td>0</td>\n",
       "    </tr>\n",
       "    <tr>\n",
       "      <th>29996</th>\n",
       "      <td>99995</td>\n",
       "      <td>0</td>\n",
       "    </tr>\n",
       "    <tr>\n",
       "      <th>29997</th>\n",
       "      <td>99996</td>\n",
       "      <td>0</td>\n",
       "    </tr>\n",
       "    <tr>\n",
       "      <th>29998</th>\n",
       "      <td>99997</td>\n",
       "      <td>0</td>\n",
       "    </tr>\n",
       "    <tr>\n",
       "      <th>29999</th>\n",
       "      <td>99998</td>\n",
       "      <td>0</td>\n",
       "    </tr>\n",
       "  </tbody>\n",
       "</table>\n",
       "<p>30000 rows × 2 columns</p>\n",
       "</div>"
      ],
      "text/plain": [
       "          id  churn_probability\n",
       "0      69999                  0\n",
       "1      70000                  0\n",
       "2      70001                  1\n",
       "3      70002                  0\n",
       "4      70003                  0\n",
       "...      ...                ...\n",
       "29995  99994                  0\n",
       "29996  99995                  0\n",
       "29997  99996                  0\n",
       "29998  99997                  0\n",
       "29999  99998                  0\n",
       "\n",
       "[30000 rows x 2 columns]"
      ]
     },
     "execution_count": 44,
     "metadata": {},
     "output_type": "execute_result"
    }
   ],
   "source": [
    "pd.read_csv('../submissions/baseline.csv')"
   ]
  },
  {
   "cell_type": "code",
   "execution_count": null,
   "metadata": {},
   "outputs": [],
   "source": []
  }
 ],
 "metadata": {
  "kernelspec": {
   "display_name": "base",
   "language": "python",
   "name": "python3"
  },
  "language_info": {
   "codemirror_mode": {
    "name": "ipython",
    "version": 3
   },
   "file_extension": ".py",
   "mimetype": "text/x-python",
   "name": "python",
   "nbconvert_exporter": "python",
   "pygments_lexer": "ipython3",
   "version": "3.11.5"
  }
 },
 "nbformat": 4,
 "nbformat_minor": 2
}
