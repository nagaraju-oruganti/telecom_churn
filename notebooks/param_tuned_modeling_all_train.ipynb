{
 "cells": [
  {
   "cell_type": "code",
   "execution_count": 1,
   "metadata": {},
   "outputs": [],
   "source": [
    "%%capture\n",
    "%cd ../src"
   ]
  },
  {
   "cell_type": "code",
   "execution_count": 2,
   "metadata": {},
   "outputs": [],
   "source": [
    "from config import Config\n",
    "config = Config()\n",
    "config.data_dir = '../data/processed'\n",
    "config.source_kind = 'scaled'\n",
    "config.model_dir = '../models'\n",
    "config.features_not_considered = ['circle_id']\n",
    "config.target = 'churn_probability'\n",
    "config.folds = [-1]\n",
    "config.classifiers = ['xgboost', 'logistic_regression', 'decision_tree',\n",
    "                      'random_forest', 'gradient_boosting']\n",
    "config.classifiers = ['gradient_boosting']\n",
    "config.save_predictions = True\n",
    "config.load_optim_params = True\n",
    "config.dest_name = 'tuned/scaled_final'"
   ]
  },
  {
   "cell_type": "code",
   "execution_count": 3,
   "metadata": {},
   "outputs": [],
   "source": [
    "%%capture\n",
    "from config import install_libraries\n",
    "install_libraries(required_packages = config.required_packages)"
   ]
  },
  {
   "cell_type": "code",
   "execution_count": 4,
   "metadata": {},
   "outputs": [
    {
     "name": "stdout",
     "output_type": "stream",
     "text": [
      "===== TRAINING GRADIENT_BOOSTING ===============================================\n",
      "Training with optimum parameters\n",
      "Training for final model with all train samples\n",
      "- train accuracy: 98.803\n",
      "- valid accuracy: 91.13\n",
      "\n",
      "The predictions are saved for gradient_boosting model...\n",
      "Train and prediction is complete.\n"
     ]
    }
   ],
   "source": [
    "from models import ClassifierModels\n",
    "clf = ClassifierModels(cfg = config)\n",
    "clf.fit_predict()"
   ]
  },
  {
   "cell_type": "code",
   "execution_count": null,
   "metadata": {},
   "outputs": [],
   "source": []
  }
 ],
 "metadata": {
  "kernelspec": {
   "display_name": "base",
   "language": "python",
   "name": "python3"
  },
  "language_info": {
   "codemirror_mode": {
    "name": "ipython",
    "version": 3
   },
   "file_extension": ".py",
   "mimetype": "text/x-python",
   "name": "python",
   "nbconvert_exporter": "python",
   "pygments_lexer": "ipython3",
   "version": "3.11.5"
  }
 },
 "nbformat": 4,
 "nbformat_minor": 2
}
