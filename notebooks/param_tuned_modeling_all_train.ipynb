{
 "cells": [
  {
   "cell_type": "code",
   "execution_count": 1,
   "metadata": {},
   "outputs": [],
   "source": [
    "%%capture\n",
    "%cd ../src"
   ]
  },
  {
   "cell_type": "code",
   "execution_count": 2,
   "metadata": {},
   "outputs": [],
   "source": [
    "from config import Config\n",
    "config = Config()\n",
    "config.data_dir = '../data/processed'\n",
    "config.source_kind = 'scaled'\n",
    "config.model_dir = '../models'\n",
    "config.features_not_considered = ['circle_id']\n",
    "config.target = 'churn_probability'\n",
    "config.folds = [-1]\n",
    "config.classifiers = ['xgboost', 'logistic_regression', 'decision_tree',\n",
    "                      'random_forest', 'gradient_boosting']\n",
    "config.save_predictions = True\n",
    "config.load_optim_params = True\n",
    "config.dest_name = 'tuned/scaled_final'"
   ]
  },
  {
   "cell_type": "code",
   "execution_count": 3,
   "metadata": {},
   "outputs": [],
   "source": [
    "%%capture\n",
    "from config import install_libraries\n",
    "install_libraries(required_packages = config.required_packages)"
   ]
  },
  {
   "cell_type": "code",
   "execution_count": 4,
   "metadata": {},
   "outputs": [
    {
     "name": "stdout",
     "output_type": "stream",
     "text": [
      "===== TRAINING XGBOOST ===============================================\n",
      "Training with optimum parameters\n",
      "Training for final model with all train samples\n",
      "- train accuracy: 100.0\n",
      "- valid accuracy: 90.527\n",
      "\n",
      "The predictions are saved for xgboost model...\n",
      "Train and prediction is complete.\n",
      "===== TRAINING LOGISTIC_REGRESSION ===============================================\n",
      "Training with optimum parameters\n",
      "Training for final model with all train samples\n",
      "- train accuracy: 92.827\n",
      "- valid accuracy: 94.39699999999999\n",
      "\n",
      "The predictions are saved for logistic_regression model...\n",
      "Train and prediction is complete.\n",
      "===== TRAINING DECISION_TREE ===============================================\n",
      "Training with optimum parameters\n",
      "Training for final model with all train samples\n",
      "- train accuracy: 94.203\n",
      "- valid accuracy: 91.20700000000001\n",
      "\n",
      "The predictions are saved for decision_tree model...\n",
      "Train and prediction is complete.\n",
      "===== TRAINING RANDOM_FOREST ===============================================\n",
      "Training with optimum parameters\n",
      "Training for final model with all train samples\n",
      "- train accuracy: 96.893\n",
      "- valid accuracy: 91.413\n",
      "\n",
      "The predictions are saved for random_forest model...\n",
      "Train and prediction is complete.\n"
     ]
    }
   ],
   "source": [
    "from models import ClassifierModels\n",
    "clf = ClassifierModels(cfg = config)\n",
    "clf.fit_predict()"
   ]
  },
  {
   "cell_type": "code",
   "execution_count": null,
   "metadata": {},
   "outputs": [],
   "source": []
  }
 ],
 "metadata": {
  "kernelspec": {
   "display_name": "base",
   "language": "python",
   "name": "python3"
  },
  "language_info": {
   "codemirror_mode": {
    "name": "ipython",
    "version": 3
   },
   "file_extension": ".py",
   "mimetype": "text/x-python",
   "name": "python",
   "nbconvert_exporter": "python",
   "pygments_lexer": "ipython3",
   "version": "3.11.5"
  }
 },
 "nbformat": 4,
 "nbformat_minor": 2
}
