{
 "cells": [
  {
   "cell_type": "code",
   "execution_count": 1,
   "metadata": {},
   "outputs": [],
   "source": [
    "%%capture\n",
    "%cd ../src"
   ]
  },
  {
   "cell_type": "code",
   "execution_count": 2,
   "metadata": {},
   "outputs": [],
   "source": [
    "from config import Config\n",
    "config = Config()\n",
    "config.data_dir = '../data/processed'\n",
    "config.source_kind = 'scaled'\n",
    "config.model_dir = '../models'\n",
    "config.features_not_considered = ['circle_id']\n",
    "config.target = 'churn_probability'\n",
    "config.folds = [-1]\n",
    "config.classifiers = ['xgboost', 'logistic_regression', 'decision_tree',\n",
    "                      'random_forest', 'gradient_boosting', 'svm']\n",
    "config.save_predictions = True\n",
    "config.load_optim_params = False\n",
    "config.dest_name = 'baseline/scaled_final'"
   ]
  },
  {
   "cell_type": "code",
   "execution_count": 3,
   "metadata": {},
   "outputs": [],
   "source": [
    "%%capture\n",
    "from config import install_libraries\n",
    "install_libraries(required_packages = config.required_packages)"
   ]
  },
  {
   "cell_type": "code",
   "execution_count": 4,
   "metadata": {},
   "outputs": [
    {
     "name": "stdout",
     "output_type": "stream",
     "text": [
      "===== TRAINING XGBOOST ===============================================\n",
      "Training for final model with all train samples\n",
      "- train accuracy: 100.0\n",
      "- valid accuracy: 90.40700000000001\n",
      "\n",
      "The predictions are saved for xgboost model...\n",
      "Train and prediction is complete.\n",
      "===== TRAINING LOGISTIC_REGRESSION ===============================================\n",
      "Training for final model with all train samples\n",
      "- train accuracy: 92.824\n",
      "- valid accuracy: 94.413\n",
      "\n",
      "The predictions are saved for logistic_regression model...\n",
      "Train and prediction is complete.\n",
      "===== TRAINING DECISION_TREE ===============================================\n",
      "Training for final model with all train samples\n",
      "- train accuracy: 94.393\n",
      "- valid accuracy: 91.563\n",
      "\n",
      "The predictions are saved for decision_tree model...\n",
      "Train and prediction is complete.\n",
      "===== TRAINING RANDOM_FOREST ===============================================\n",
      "Training for final model with all train samples\n",
      "- train accuracy: 94.07\n",
      "- valid accuracy: 91.55\n",
      "\n",
      "The predictions are saved for random_forest model...\n",
      "Train and prediction is complete.\n",
      "===== TRAINING GRADIENT_BOOSTING ===============================================\n",
      "Training for final model with all train samples\n",
      "- train accuracy: 94.64399999999999\n",
      "- valid accuracy: 91.247\n",
      "\n",
      "The predictions are saved for gradient_boosting model...\n",
      "Train and prediction is complete.\n",
      "===== TRAINING SVM ===============================================\n",
      "Training for final model with all train samples\n",
      "- train accuracy: 61.468\n",
      "- valid accuracy: 60.78\n",
      "\n",
      "The predictions are saved for svm model...\n",
      "Train and prediction is complete.\n"
     ]
    }
   ],
   "source": [
    "from models import ClassifierModels\n",
    "clf = ClassifierModels(cfg = config)\n",
    "clf.fit_predict()"
   ]
  },
  {
   "cell_type": "code",
   "execution_count": 5,
   "metadata": {},
   "outputs": [],
   "source": [
    "config.source_kind = 'pca'\n",
    "config.dest_name = 'baseline/pca_final'"
   ]
  },
  {
   "cell_type": "code",
   "execution_count": 6,
   "metadata": {},
   "outputs": [
    {
     "name": "stdout",
     "output_type": "stream",
     "text": [
      "===== TRAINING XGBOOST ===============================================\n",
      "Training for final model with all train samples\n",
      "- train accuracy: 100.0\n",
      "- valid accuracy: 92.41\n",
      "\n",
      "The predictions are saved for xgboost model...\n",
      "Train and prediction is complete.\n",
      "===== TRAINING LOGISTIC_REGRESSION ===============================================\n",
      "Training for final model with all train samples\n",
      "- train accuracy: 89.81099999999999\n",
      "- valid accuracy: 100.0\n",
      "\n",
      "The predictions are saved for logistic_regression model...\n",
      "Train and prediction is complete.\n",
      "===== TRAINING DECISION_TREE ===============================================\n",
      "Training for final model with all train samples\n",
      "- train accuracy: 91.23599999999999\n",
      "- valid accuracy: 97.827\n",
      "\n",
      "The predictions are saved for decision_tree model...\n",
      "Train and prediction is complete.\n",
      "===== TRAINING RANDOM_FOREST ===============================================\n",
      "Training for final model with all train samples\n",
      "- train accuracy: 90.85\n",
      "- valid accuracy: 98.77\n",
      "\n",
      "The predictions are saved for random_forest model...\n",
      "Train and prediction is complete.\n",
      "===== TRAINING GRADIENT_BOOSTING ===============================================\n",
      "Training for final model with all train samples\n",
      "- train accuracy: 92.88300000000001\n",
      "- valid accuracy: 94.663\n",
      "\n",
      "The predictions are saved for gradient_boosting model...\n",
      "Train and prediction is complete.\n",
      "===== TRAINING SVM ===============================================\n",
      "Training for final model with all train samples\n",
      "- train accuracy: 10.612\n",
      "- valid accuracy: 1.923\n",
      "\n",
      "The predictions are saved for svm model...\n",
      "Train and prediction is complete.\n"
     ]
    }
   ],
   "source": [
    "from models import ClassifierModels\n",
    "clf = ClassifierModels(cfg = config)\n",
    "clf.fit_predict()"
   ]
  },
  {
   "cell_type": "code",
   "execution_count": null,
   "metadata": {},
   "outputs": [],
   "source": []
  }
 ],
 "metadata": {
  "kernelspec": {
   "display_name": "base",
   "language": "python",
   "name": "python3"
  },
  "language_info": {
   "codemirror_mode": {
    "name": "ipython",
    "version": 3
   },
   "file_extension": ".py",
   "mimetype": "text/x-python",
   "name": "python",
   "nbconvert_exporter": "python",
   "pygments_lexer": "ipython3",
   "version": "3.11.5"
  }
 },
 "nbformat": 4,
 "nbformat_minor": 2
}
